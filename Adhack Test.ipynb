{
 "cells": [
  {
   "cell_type": "markdown",
   "metadata": {},
   "source": [
    "# Тестовое задание\n",
    "\n",
    "`Мякишев Никита`"
   ]
  },
  {
   "cell_type": "code",
   "execution_count": 1,
   "metadata": {},
   "outputs": [],
   "source": [
    "import pandas as pd\n",
    "import numpy as np\n",
    "import sqlite3 as sql"
   ]
  },
  {
   "cell_type": "code",
   "execution_count": 2,
   "metadata": {},
   "outputs": [],
   "source": [
    "con = sql.connect('DB.db')"
   ]
  },
  {
   "cell_type": "markdown",
   "metadata": {},
   "source": [
    "## Задание 1"
   ]
  },
  {
   "cell_type": "markdown",
   "metadata": {},
   "source": [
    "- Напишите запрос, возвращающий строки с актуальными ценами (с наибольшей датой - date_start) для каждого товара (product). Посчитайте среднюю цену и запишите ответ-число в файл res1.txt"
   ]
  },
  {
   "cell_type": "code",
   "execution_count": 3,
   "metadata": {},
   "outputs": [],
   "source": [
    "df = pd.read_sql_query('SELECT * \\\n",
    "                       FROM prices \\\n",
    "                       GROUP BY product \\\n",
    "                       HAVING date_start = MAX(date_start)', con)"
   ]
  },
  {
   "cell_type": "code",
   "execution_count": 4,
   "metadata": {},
   "outputs": [],
   "source": [
    "price_mean = df.price.mean()"
   ]
  },
  {
   "cell_type": "code",
   "execution_count": 5,
   "metadata": {},
   "outputs": [],
   "source": [
    "ouf = open('res1.txt', 'w')\n",
    "ouf.write(f'{price_mean}')\n",
    "ouf.close()"
   ]
  },
  {
   "cell_type": "markdown",
   "metadata": {},
   "source": [
    "- Напишите функцию на любом языке программирования (предпочтительно Python) принимающую название продукта (поле product) и возвращающую tuple вида ([date_start1, date_start2,... ],[price1, price2,...]), из таблицы “prices”. Где date_start(n) - это даты, отсортированные по возрастанию, а price(n) - соответствующая дате цена на продукт. При каждом вызове функция должна обращаться к БД, выбирая необходимые данные. Формат дат особого значения не имеет.\n"
   ]
  },
  {
   "cell_type": "code",
   "execution_count": 6,
   "metadata": {},
   "outputs": [],
   "source": [
    "def foo(product):\n",
    "    connect = sql.connect('DB.db')\n",
    "    df = pd.read_sql_query(f'SELECT date_start, price \\\n",
    "                            FROM prices \\\n",
    "                            WHERE product = \"{product}\" \\\n",
    "                            ORDER BY date_start', connect)\n",
    "    connect.close()\n",
    "    return (df.date_start.to_list(), df.price.to_list())"
   ]
  },
  {
   "cell_type": "code",
   "execution_count": 7,
   "metadata": {},
   "outputs": [
    {
     "data": {
      "text/plain": [
       "(['1970-01-01',\n",
       "  '2010-01-21',\n",
       "  '2010-08-17',\n",
       "  '2010-11-02',\n",
       "  '2012-08-27',\n",
       "  '2012-12-06',\n",
       "  '2013-01-11',\n",
       "  '2013-05-02',\n",
       "  '2013-05-08',\n",
       "  '2013-11-01',\n",
       "  '2014-08-30',\n",
       "  '2015-12-29',\n",
       "  '2016-05-04',\n",
       "  '2016-08-14',\n",
       "  '2016-09-28',\n",
       "  '2017-04-01'],\n",
       " [297.79,\n",
       "  164.68,\n",
       "  558.58,\n",
       "  127.08,\n",
       "  352.13,\n",
       "  0.35,\n",
       "  100.61,\n",
       "  120.5,\n",
       "  260.19,\n",
       "  1747.84,\n",
       "  59.84,\n",
       "  118.27,\n",
       "  550.62,\n",
       "  339.35,\n",
       "  210.19,\n",
       "  111.23])"
      ]
     },
     "execution_count": 7,
     "metadata": {},
     "output_type": "execute_result"
    }
   ],
   "source": [
    "foo('A')"
   ]
  },
  {
   "cell_type": "markdown",
   "metadata": {},
   "source": [
    "## Задание 2"
   ]
  },
  {
   "cell_type": "markdown",
   "metadata": {},
   "source": [
    "- Напишите запрос, результатом которого станет создание таблицы “revenue” вида:\n",
    "product\n",
    "date\n",
    "amount\n",
    "revenue\n",
    "\n",
    "Где revenue вычисляется по формуле: revenue = sales.amount * prices.price. Естественно, price из таблицы prices должен соответствовать date из таблицы sales. Следует учитывать, что таблица sales содержит большое кол-во строк.\n",
    "Выполните запрос и создайте таблицу в revenue \"DB.db\"."
   ]
  },
  {
   "cell_type": "code",
   "execution_count": 8,
   "metadata": {},
   "outputs": [],
   "source": [
    "con = sql.connect('DB.db')\n",
    "sales = pd.read_sql_query('SELECT * \\\n",
    "                           FROM sales', con)\n",
    "prices = pd.read_sql_query('SELECT * \\\n",
    "                           FROM prices', con)"
   ]
  },
  {
   "cell_type": "code",
   "execution_count": 9,
   "metadata": {},
   "outputs": [],
   "source": [
    "#pandas way\n",
    "#revenue = sales\n",
    "#revenue['revenue'] = revenue.apply(axis=1, func=lambda x: prices[(prices['product'] == x['product']) & (prices['date_start'] <= x['date'])].\n",
    "#            sort_values('date_start', ascending=False).iloc[0,:]['price'] * x['amount'])"
   ]
  },
  {
   "cell_type": "code",
   "execution_count": 10,
   "metadata": {},
   "outputs": [],
   "source": [
    "#sql way( faster, then pandas way c: )\n",
    "revenue = pd.read_sql_query('SELECT sl.product, sl.date, sl.amount, sl.amount * pr.price as revenue \\\n",
    "                                 FROM sales as sl join prices as pr \\\n",
    "                                 ON sl.product = pr.product \\\n",
    "                                 WHERE pr.date_start = (SELECT MAX(date_start) \\\n",
    "                                                        FROM prices as pr1 \\\n",
    "                                                        WHERE pr1.product = sl.product and pr1.date_start <= sl.date)', con)"
   ]
  },
  {
   "cell_type": "code",
   "execution_count": 11,
   "metadata": {},
   "outputs": [],
   "source": [
    "#adding table to database\n",
    "revenue.to_sql('revenue', con, if_exists='replace')"
   ]
  },
  {
   "cell_type": "markdown",
   "metadata": {},
   "source": [
    "- Запишите величину выборочного стандартного отклонения revenue для продукта \"B\" в файл res2.txt."
   ]
  },
  {
   "cell_type": "code",
   "execution_count": 12,
   "metadata": {},
   "outputs": [
    {
     "name": "stdout",
     "output_type": "stream",
     "text": [
      "x_dash = 19030.889614074917\n",
      "dispersion = 1119651220.3286636\n",
      "sd = 33465.93838814805\n"
     ]
    }
   ],
   "source": [
    "samp = revenue[revenue['product'] == 'B']\n",
    "n = samp.shape[0]\n",
    "x_dash = samp['revenue'].sum() / n\n",
    "disp = samp['revenue'].apply(lambda x: (x - x_dash) ** 2).sum() / n\n",
    "sd = (n * disp / (n - 1)) ** 0.5\n",
    "print(f'x_dash = {x_dash}\\ndispersion = {disp}\\nsd = {sd}')\n"
   ]
  },
  {
   "cell_type": "code",
   "execution_count": 13,
   "metadata": {},
   "outputs": [],
   "source": [
    "ouf = open('res2.txt', 'w')\n",
    "ouf.write(f'{sd}')\n",
    "ouf.close()"
   ]
  },
  {
   "cell_type": "markdown",
   "metadata": {},
   "source": [
    "## Задание 3"
   ]
  },
  {
   "cell_type": "markdown",
   "metadata": {},
   "source": [
    "- Напишите функцию, которая принимает название товара product и две даты: date_start,\n",
    "date_end, тренирует (находит c МНК коэффициенты k, b) линейную модель вида y = kx+b и возвращает коэффициенты, k и b. \n",
    "\n",
    "В модели x - это номер дня от начала заданного периода (0,1,2,3...), а y - кол-во проданных единиц продукции (amount из таблицы sales или revenue). При каждом вызове функция должна обращаться к таблице “revenue” или \"sales\" из задания 2, выбирая необходимые данные. "
   ]
  },
  {
   "cell_type": "code",
   "execution_count": 14,
   "metadata": {},
   "outputs": [],
   "source": [
    "from datetime import date, datetime\n",
    "from sklearn.linear_model import LinearRegression"
   ]
  },
  {
   "cell_type": "code",
   "execution_count": 15,
   "metadata": {},
   "outputs": [],
   "source": [
    "def lin_reg(product, date_start, date_end):\n",
    "    def bar(date_now):\n",
    "        return (date(*map(int, date_now.split(\"-\"))) - date(*map(int, date_start.split(\"-\")))).days\n",
    "    connect = sql.connect('DB.db')\n",
    "    df = pd.read_sql_query(f'SELECT date, amount \\\n",
    "                            FROM sales \\\n",
    "                            WHERE product = \"{product}\" \\\n",
    "                            AND date >= \"{date_start}\" \\\n",
    "                            AND date <= \"{date_end}\"', connect)\n",
    "    df['days'] = df['date'].apply(func=lambda x: bar(x))\n",
    "    lr = LinearRegression().fit(df['days'].to_numpy().reshape((-1, 1)), df['amount'].to_numpy())\n",
    "    return (lr.coef_[0], lr.intercept_)\n",
    "    connect.close()"
   ]
  },
  {
   "cell_type": "markdown",
   "metadata": {},
   "source": [
    "- Запишите коэффициенты, возвращаемые функцией при начальных аргументах: lin_reg(product='Q', date_start='2019-01-01', date_end='2019-03-31') в res3.txt через пробел."
   ]
  },
  {
   "cell_type": "code",
   "execution_count": 16,
   "metadata": {},
   "outputs": [],
   "source": [
    "lr = lin_reg(product='Q', date_start='2019-01-01', date_end='2019-03-31')"
   ]
  },
  {
   "cell_type": "code",
   "execution_count": 17,
   "metadata": {},
   "outputs": [],
   "source": [
    "ouf = open('res3.txt', 'w')\n",
    "ouf.write(f'{lr[0]} {lr[1]}')\n",
    "ouf.close()"
   ]
  }
 ],
 "metadata": {
  "kernelspec": {
   "display_name": "Python 3",
   "language": "python",
   "name": "python3"
  },
  "language_info": {
   "codemirror_mode": {
    "name": "ipython",
    "version": 3
   },
   "file_extension": ".py",
   "mimetype": "text/x-python",
   "name": "python",
   "nbconvert_exporter": "python",
   "pygments_lexer": "ipython3",
   "version": "3.7.4"
  }
 },
 "nbformat": 4,
 "nbformat_minor": 2
}
